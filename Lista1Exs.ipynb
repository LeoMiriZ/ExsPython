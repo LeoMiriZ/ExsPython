{
  "metadata": {
    "language_info": {
      "codemirror_mode": {
        "name": "python",
        "version": 3
      },
      "file_extension": ".py",
      "mimetype": "text/x-python",
      "name": "python",
      "nbconvert_exporter": "python",
      "pygments_lexer": "ipython3",
      "version": "3.8"
    },
    "kernelspec": {
      "name": "python",
      "display_name": "Python (Pyodide)",
      "language": "python"
    }
  },
  "nbformat_minor": 4,
  "nbformat": 4,
  "cells": [
    {
      "cell_type": "code",
      "source": "#Exercício 1\n\nx = 0;\n\nwhile x < 8:\n  print(\"ESPM-O INUSITADO EM CONSTANTE MOVIMENTO\")\n  x = x + 1\n",
      "metadata": {
        "trusted": true
      },
      "execution_count": 1,
      "outputs": [
        {
          "name": "stdout",
          "text": "ESPM-O INUSITADO EM CONSTANTE MOVIMENTO\nESPM-O INUSITADO EM CONSTANTE MOVIMENTO\nESPM-O INUSITADO EM CONSTANTE MOVIMENTO\nESPM-O INUSITADO EM CONSTANTE MOVIMENTO\nESPM-O INUSITADO EM CONSTANTE MOVIMENTO\nESPM-O INUSITADO EM CONSTANTE MOVIMENTO\nESPM-O INUSITADO EM CONSTANTE MOVIMENTO\nESPM-O INUSITADO EM CONSTANTE MOVIMENTO\n",
          "output_type": "stream"
        }
      ]
    },
    {
      "cell_type": "code",
      "source": "#Exercício 2\n\nimport time;\n\nx = 10;\ny = 1;\n\nwhile x >= 0:\n  print(x);\n  time.sleep(y);\n  x = x - 1;",
      "metadata": {},
      "execution_count": null,
      "outputs": []
    },
    {
      "cell_type": "code",
      "source": "#Exercício 3\n\nv = [];\n\ni = [];\n\nwhile True:\n  c = float(input('Informe o valor de sua compra--> '));\n  k = int(input('Informe o número de itens adquiridos--> '));\n  v.append(c);\n  i.append(k);\n  if(input('Deseja continuar? [Enter para Sim, N para parar]:') == 'N'):\n    break;\n\n\nmediav = sum(v) / len(v);\nmediai = sum(i) /len(i);\n\nmaisv = max(v);\nmaisi = max(i);\n\n\n\nprint();\nprint('Média do valor total de compra dos clientes--> $', mediav);\nprint('Média do número de itens adquiridos--> ', mediai);\nprint('Maior valor total de compra dos clientes, ou seja, o cliente que gastou mais--> ', maisv);\nprint('Maior número de itens adquiridos em uma compra, ou seja, o cliente que comprou mais itens--> ', maisi);",
      "metadata": {},
      "execution_count": null,
      "outputs": []
    }
  ]
}